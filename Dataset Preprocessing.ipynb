{
 "cells": [
  {
   "cell_type": "code",
   "execution_count": 14,
   "id": "40862455",
   "metadata": {},
   "outputs": [],
   "source": [
    "import os\n",
    "import json\n",
    "import requests\n",
    "from unicodedata import normalize\n",
    "import random"
   ]
  },
  {
   "cell_type": "code",
   "execution_count": 18,
   "id": "d584b482",
   "metadata": {},
   "outputs": [],
   "source": [
    "data_dir = \"datasets\"\n",
    "items_domains = [f for f in os.listdir(data_dir) if f.endswith(\".json\")]"
   ]
  },
  {
   "cell_type": "code",
   "execution_count": 19,
   "id": "e03c54d8",
   "metadata": {},
   "outputs": [],
   "source": [
    "def get_product(product_id):\n",
    "    response = requests.get(f\"https://api.mercadolibre.com/products/{product_id}\")\n",
    "    return response.json()"
   ]
  },
  {
   "cell_type": "markdown",
   "id": "884bc1ed",
   "metadata": {},
   "source": [
    "{\"id\": 19, \"title\": \"热风2019年春季新款潮流时尚男士休闲皮鞋透气低跟豆豆鞋h40m9107\", \"attribute\": \"款式\", \"value\": \"豆豆鞋\"}"
   ]
  },
  {
   "cell_type": "code",
   "execution_count": 20,
   "id": "72c01494",
   "metadata": {},
   "outputs": [
    {
     "name": "stdout",
     "output_type": "stream",
     "text": [
      "datasets/headphones_items.json\n",
      "68% items productizados para headphones_items.json\n",
      "datasets/books_items.json\n",
      "10% items productizados para books_items.json\n",
      "datasets/smartwatches_items.json\n",
      "44% items productizados para smartwatches_items.json\n"
     ]
    }
   ],
   "source": [
    "only_this_attributes = [\"Marca\", \"Modelo\"]\n",
    "\n",
    "dataset = []\n",
    "products = {}\n",
    "\n",
    "for dom in items_domains:\n",
    "    print(f\"{data_dir}/{dom}\")\n",
    "    with open(f\"{data_dir}/{dom}\") as file:\n",
    "        items = json.load(file)\n",
    "    c = 0\n",
    "    prods = set([])\n",
    "    for it in items:\n",
    "        if it[\"catalog_product_id\"]:\n",
    "            c+=1\n",
    "            prods.add(it[\"catalog_product_id\"])\n",
    "        for att in it[\"attributes\"]:\n",
    "            if att[\"id\"] == \"ITEM_CONDITION\" or att[\"value_name\"] is None:\n",
    "                continue\n",
    "            if att[\"name\"] in only_this_attributes:\n",
    "                title = it[\"title\"] + it[\"description\"] if it[\"description\"] else it[\"title\"]\n",
    "                if att[\"value_name\"] in title:\n",
    "                    dataset.append({\n",
    "                    \"id\": it[\"id\"],\n",
    "                    \"title\": title,\n",
    "                    \"attribute\": att[\"name\"],\n",
    "                    \"value\": att[\"value_name\"]\n",
    "                    })\n",
    "            elif not only_this_attributes:\n",
    "                title = it[\"title\"] + it[\"description\"] if it[\"description\"] else it[\"title\"]\n",
    "                if att[\"value_name\"] in title:\n",
    "                    dataset.append({\n",
    "                    \"id\": it[\"id\"],\n",
    "                    \"title\": title,\n",
    "                    \"attribute\": att[\"name\"],\n",
    "                    \"value\": att[\"value_name\"]\n",
    "                    })\n",
    "    prods = list(prods)\n",
    "    print(f\"{round(c/len(items)*100)}% items productizados para {dom}\")"
   ]
  },
  {
   "cell_type": "code",
   "execution_count": 11,
   "id": "113d593a",
   "metadata": {},
   "outputs": [],
   "source": [
    "def write_output(output_file, dataset):\n",
    "    with open(output_file, \"w\", encoding=\"utf-8\") as file:\n",
    "        file.write(\"\")\n",
    "\n",
    "    with open(output_file, \"a\", encoding=\"utf-8\") as file:\n",
    "        for d in dataset:\n",
    "            if d[\"value\"]:\n",
    "                row = json.dumps(d, ensure_ascii=False)\n",
    "                file.write(row + \"\\n\")"
   ]
  },
  {
   "cell_type": "code",
   "execution_count": 12,
   "id": "483382a8",
   "metadata": {
    "scrolled": false
   },
   "outputs": [],
   "source": [
    "random.shuffle(dataset)\n",
    "train_set, test_set = dataset[:-200], dataset[-200:] \n",
    "train_output = data_dir + \"/train_sample.json\"\n",
    "test_output = data_dir + \"/test_sample.json\"\n",
    "\n",
    "write_output(train_output, train_set)\n",
    "write_output(test_output, test_set)"
   ]
  },
  {
   "cell_type": "code",
   "execution_count": 6,
   "id": "b9a58e9c",
   "metadata": {},
   "outputs": [],
   "source": [
    "# with open(output_file, \"w\", encoding=\"utf-8\") as file:\n",
    "#     json.dump(d, file)"
   ]
  },
  {
   "cell_type": "code",
   "execution_count": 13,
   "id": "e47dd098",
   "metadata": {},
   "outputs": [],
   "source": []
  },
  {
   "cell_type": "code",
   "execution_count": 17,
   "id": "e4877033",
   "metadata": {},
   "outputs": [
    {
     "data": {
      "text/plain": [
       "200"
      ]
     },
     "execution_count": 17,
     "metadata": {},
     "output_type": "execute_result"
    }
   ],
   "source": []
  },
  {
   "cell_type": "code",
   "execution_count": null,
   "id": "b13d3540",
   "metadata": {},
   "outputs": [],
   "source": []
  }
 ],
 "metadata": {
  "kernelspec": {
   "display_name": "Python 3 (ipykernel)",
   "language": "python",
   "name": "python3"
  },
  "language_info": {
   "codemirror_mode": {
    "name": "ipython",
    "version": 3
   },
   "file_extension": ".py",
   "mimetype": "text/x-python",
   "name": "python",
   "nbconvert_exporter": "python",
   "pygments_lexer": "ipython3",
   "version": "3.8.0"
  }
 },
 "nbformat": 4,
 "nbformat_minor": 5
}
